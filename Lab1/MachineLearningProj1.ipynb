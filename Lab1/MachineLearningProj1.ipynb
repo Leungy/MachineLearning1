{
 "cells": [
  {
   "cell_type": "code",
   "execution_count": 62,
   "metadata": {},
   "outputs": [],
   "source": [
    "import pandas as pd\n",
    "import numpy as np\n",
    "import pandas_profiling as prof\n",
    "from decimal import Decimal\n",
    "from IPython.core.interactiveshell import InteractiveShell\n",
    "InteractiveShell.ast_node_interactivity = \"all\"\n",
    " \n",
    "data = pd.read_csv(\"/Users/ksomes/Downloads/listings.csv\") "
   ]
  },
  {
   "cell_type": "code",
   "execution_count": 42,
   "metadata": {
    "scrolled": true
   },
   "outputs": [
    {
     "name": "stdout",
     "output_type": "stream",
     "text": [
      "['name', 'host_id', 'host_name', 'host_since', 'host_location', 'host_response_time', 'host_response_rate', 'host_is_superhost', 'host_neighbourhood', 'host_listings_count', 'host_verifications', 'host_has_profile_pic', 'host_identity_verified', 'street', 'neighbourhood', 'neighbourhood_cleansed', 'neighbourhood_group_cleansed', 'city', 'state', 'zipcode', 'market', 'smart_location', 'latitude', 'longitude', 'is_location_exact', 'property_type', 'room_type', 'accommodates', 'bathrooms', 'bedrooms', 'beds', 'bed_type', 'price', 'security_deposit', 'cleaning_fee', 'guests_included', 'extra_people', 'minimum_nights', 'maximum_nights', 'calendar_updated', 'availability_60', 'calendar_last_scraped', 'number_of_reviews', 'number_of_reviews_ltm', 'first_review', 'last_review', 'review_scores_rating', 'review_scores_accuracy', 'review_scores_cleanliness', 'review_scores_checkin', 'review_scores_communication', 'review_scores_location', 'review_scores_value', 'instant_bookable', 'cancellation_policy', 'require_guest_profile_picture', 'require_guest_phone_verification', 'calculated_host_listings_count_entire_homes', 'calculated_host_listings_count_private_rooms', 'reviews_per_month']\n"
     ]
    }
   ],
   "source": [
    "#drop redundant info and fields not useful for analysis\n",
    "sub=data.drop(['id','listing_url','scrape_id','last_scraped','summary','space','description','experiences_offered'\n",
    "              , 'neighborhood_overview', 'notes', 'transit', 'access', 'interaction', 'house_rules',\n",
    "              'thumbnail_url', 'medium_url', 'picture_url', 'xl_picture_url', 'host_url', 'host_thumbnail_url',\n",
    "              'host_picture_url', 'country_code', 'country','amenities', 'minimum_minimum_nights',\n",
    "              'maximum_minimum_nights','minimum_maximum_nights', 'maximum_maximum_nights','minimum_nights_avg_ntm',\n",
    "              'maximum_nights_avg_ntm', 'availability_30', 'availability_365','availability_90','has_availability',\n",
    "               'calculated_host_listings_count','calculated_host_listings_count_shared_rooms',\n",
    "               'is_business_travel_ready','host_about', 'host_acceptance_rate', 'host_total_listings_count',\n",
    "              'jurisdiction_names','license','monthly_price','square_feet','weekly_price', 'requires_license'], axis=1)\n",
    "print(list(sub.columns))"
   ]
  },
  {
   "cell_type": "code",
   "execution_count": 96,
   "metadata": {},
   "outputs": [],
   "source": [
    "def money_to_decimal(x):\n",
    "    x = x.replace(\"$\", \"\").replace(\",\", \"\").replace(\" \", \"\")\n",
    "    return float(x)\n",
    "def rem_percent(x):\n",
    "    x=x.replace(\"%\",\"\")\n",
    "    return float(x)/100\n",
    "def truncate(n):\n",
    "    return int(n * 1000) / 1000"
   ]
  },
  {
   "cell_type": "code",
   "execution_count": 68,
   "metadata": {},
   "outputs": [],
   "source": [
    "#converts objects with money values into decimal values to become continous attribute\n",
    "sub.cleaning_fee = sub.cleaning_fee.astype(str)\n",
    "sub.extra_people = sub.extra_people.astype(str)\n",
    "sub.security_deposit = sub.security_deposit.astype(str)\n",
    "sub.price = sub.price.astype(str)\n",
    "sub.loc[:,'price'] = sub.loc[:,'price'].apply(money_to_decimal)\n",
    "sub.loc[:,'cleaning_fee'] = sub.loc[:,'cleaning_fee'].apply(money_to_decimal)\n",
    "sub.loc[:,'extra_people'] = sub.loc[:,'extra_people'].apply(money_to_decimal)\n",
    "sub.loc[:,'security_deposit'] = sub.loc[:,'security_deposit'].apply(money_to_decimal)\n",
    "\n",
    "#imputations\n",
    "sub['price']=sub.price.mask(sub.price == 0,sub.price.median())\n",
    "sub.cleaning_fee=sub.cleaning_fee.fillna(sub.cleaning_fee.median())\n",
    "sub.first_review=sub.first_review.fillna('2019-08-01')\n",
    "sub['first_review'] =  pd.to_datetime(sub['first_review'],\n",
    "                              format='%Y-%m-%d')\n",
    "sub.host_response_rate = sub.host_response_rate.astype(str)\n",
    "sub.loc[:,'host_response_rate'] = sub.loc[:, 'host_response_rate'].apply(rem_percent)\n",
    "sub.host_response_rate=sub.host_response_rate.fillna(sub.host_response_rate.median())\n",
    "sub['host_since'] =  pd.to_datetime(sub['host_since'],\n",
    "                              format='%Y-%m-%d')\n",
    "sub.last_review=sub.last_review.fillna('2019-08-01')\n",
    "sub['last_review'] =  pd.to_datetime(sub['last_review'],\n",
    "                              format='%Y-%m-%d')\n",
    "sub.review_scores_accuracy=sub.review_scores_accuracy.fillna(truncate(sub.review_scores_accuracy.median()))\n",
    "sub.review_scores_checkin=sub.review_scores_checkin.fillna(truncate(sub.review_scores_checkin.median()))\n",
    "sub.review_scores_cleanliness=sub.review_scores_cleanliness.fillna(truncate(sub.review_scores_cleanliness.median()))\n",
    "sub.review_scores_communication=sub.review_scores_communication.fillna(truncate(sub.review_scores_communication.median()))\n",
    "sub.review_scores_location=sub.review_scores_location.fillna(truncate(sub.review_scores_location.median()))\n",
    "sub.review_scores_rating=sub.review_scores_rating.fillna(truncate(sub.review_scores_rating.median()))\n",
    "sub.review_scores_value=sub.review_scores_value.fillna(truncate(sub.review_scores_value.median()))\n",
    "sub.reviews_per_month=sub.reviews_per_month.fillna(sub.reviews_per_month.median())\n",
    "sub.security_deposit=sub.security_deposit.fillna(sub.security_deposit.median())"
   ]
  },
  {
   "cell_type": "code",
   "execution_count": 103,
   "metadata": {
    "scrolled": true
   },
   "outputs": [
    {
     "name": "stdout",
     "output_type": "stream",
     "text": [
      "0         350.0\n",
      "1         200.0\n",
      "2         500.0\n",
      "3         100.0\n",
      "4         300.0\n",
      "5         450.0\n",
      "6         120.0\n",
      "7         120.0\n",
      "8         500.0\n",
      "9           0.0\n",
      "10        450.0\n",
      "11        200.0\n",
      "12        200.0\n",
      "13        500.0\n",
      "14        200.0\n",
      "15        200.0\n",
      "16          0.0\n",
      "17        500.0\n",
      "18        120.0\n",
      "19        300.0\n",
      "20          0.0\n",
      "21        120.0\n",
      "22        300.0\n",
      "23          0.0\n",
      "24        300.0\n",
      "25        120.0\n",
      "26        120.0\n",
      "27          0.0\n",
      "28        150.0\n",
      "29        120.0\n",
      "          ...  \n",
      "48834     500.0\n",
      "48835       0.0\n",
      "48836     120.0\n",
      "48837     120.0\n",
      "48838       0.0\n",
      "48839     120.0\n",
      "48840     350.0\n",
      "48841     500.0\n",
      "48842       0.0\n",
      "48843     250.0\n",
      "48844     120.0\n",
      "48845     120.0\n",
      "48846     150.0\n",
      "48847     120.0\n",
      "48848       0.0\n",
      "48849       0.0\n",
      "48850    1000.0\n",
      "48851       0.0\n",
      "48852       0.0\n",
      "48853    1000.0\n",
      "48854     120.0\n",
      "48855       0.0\n",
      "48856     100.0\n",
      "48857       0.0\n",
      "48858       0.0\n",
      "48859     120.0\n",
      "48860     120.0\n",
      "48861       0.0\n",
      "48862     300.0\n",
      "48863     120.0\n",
      "Name: security_deposit, Length: 48864, dtype: float64\n"
     ]
    }
   ],
   "source": [
    "sub.security_deposit=sub.security_deposit.fillna(sub.security_deposit.median())\n",
    "print(sub.security_deposit)"
   ]
  },
  {
   "cell_type": "code",
   "execution_count": 49,
   "metadata": {},
   "outputs": [
    {
     "name": "stdout",
     "output_type": "stream",
     "text": [
      "0         225.0\n",
      "1         150.0\n",
      "2          89.0\n",
      "3          80.0\n",
      "4         200.0\n",
      "5          60.0\n",
      "6          79.0\n",
      "7          79.0\n",
      "8         116.0\n",
      "9         150.0\n",
      "10        135.0\n",
      "11         85.0\n",
      "12         89.0\n",
      "13        120.0\n",
      "14        140.0\n",
      "15        215.0\n",
      "16        140.0\n",
      "17         99.0\n",
      "18        190.0\n",
      "19        299.0\n",
      "20        115.0\n",
      "21        110.0\n",
      "22        120.0\n",
      "23         60.0\n",
      "24         80.0\n",
      "25        150.0\n",
      "26        180.0\n",
      "27         50.0\n",
      "28         52.0\n",
      "29         55.0\n",
      "          ...  \n",
      "48834     499.0\n",
      "48835     180.0\n",
      "48836     105.0\n",
      "48837     150.0\n",
      "48838     180.0\n",
      "48839      65.0\n",
      "48840     315.0\n",
      "48841    1295.0\n",
      "48842     250.0\n",
      "48843     895.0\n",
      "48844     150.0\n",
      "48845     280.0\n",
      "48846     395.0\n",
      "48847     350.0\n",
      "48848     100.0\n",
      "48849     180.0\n",
      "48850     190.0\n",
      "48851     236.0\n",
      "48852     180.0\n",
      "48853     300.0\n",
      "48854     709.0\n",
      "48855     180.0\n",
      "48856     135.0\n",
      "48857     300.0\n",
      "48858     130.0\n",
      "48859      65.0\n",
      "48860      60.0\n",
      "48861     239.0\n",
      "48862      75.0\n",
      "48863     239.0\n",
      "Name: price, Length: 48864, dtype: float64\n"
     ]
    }
   ],
   "source": []
  },
  {
   "cell_type": "code",
   "execution_count": 65,
   "metadata": {},
   "outputs": [],
   "source": [
    "profile = sub.profile_report(title=\"AirBnb Profiling\", correlation_overrides=[\"recclass\"])\n",
    "profile.to_file(output_file=(\"/Users/ksomes/Downloads/airbnb_profile.html\"))"
   ]
  },
  {
   "cell_type": "markdown",
   "metadata": {},
   "source": [
    "## Data description\n",
    "__accomodates:__ The maximum number of people the rental can accomodate *(numeric)*  \n",
    "__availability_60:__ Number of days the space is available within the next 60 days *(numeric)*  \n",
    "__bathrooms:__ The number of bathrooms in the rental *(numeric)*  \n",
    "__bed_type:__ The type of bed available *(categorical)*  \n",
    "__bedrooms:__ The number of separate bedrooms in the rental *(numeric)*  \n",
    "__beds:__ The number of beds in the rental *(numeric)*  \n",
    "__calculated_host_listings_count_entire_homes:__ Number of listings a host has where an entire home is offered *(numeric)*  \n",
    "__calculated_host_listings_count_private_rooms:__ Number of listings a host has with private rooms offered *(numeric)*  \n",
    "__calendar_last_scraped:__ Date the calendar information was last pulled *(date)*  \n",
    "__calendar_updated:__ Last time the host updated their calendar information *(date)*  \n",
    "__cancellation_policy:__ Ranking of how strict the host is on their cancellation policy *(categorical)*  \n",
    "__city:__ The city/borough the listing is located in *(categorical)*  \n",
    "__cleaning_fee:__ The surcharge for cleaning the listing *(numeric)*  \n",
    "__extra_people:__ The surcharge for each additional person staying in the rental *(numeric)*  \n",
    "__first_review:__ The date of the first review of the listing *(date)*  \n",
    "__guests_included:__ The number of guests included in the price *(numeric)*  \n",
    "__host_has_profile_pic:__ Indicator of presence of profile picture on site *(Boolean)*  \n",
    "__host_id:__ Host identifier *(numeric)*  \n",
    "__host_identity_verified:__ Indicator of host's identity verification using offline source *(Boolean)*  \n",
    "__host_is_superhost:__ Indicator of super host status (exemplary host behavior) *(Boolean)*  \n",
    "__host_listings_count:__ The number of listings the host has *(numeric)*  \n",
    "__host_location:__ The city the host is located in *(categorical)*  \n",
    "__host_name:__ Name of host *(categorical)*  \n",
    "__host_neighborhood:__ The neighborhood the host is located in *(categorical)*  \n",
    "__host_response_rate:__ The rate which a host responds to contact from lessor *(numeric)*  \n",
    "__host_response_time:__ Bucket of how long the host takes to respond *(categorical)*  \n",
    "__host_since:__ The date of the first hosting *(date)*  \n",
    "__host_verifications:__ Ways in which the host was verified *(categorical)*  \n",
    "__instant_bookable:__ Indicator on ability to book instantly *(Boolean)*  \n",
    "__is_location_exact:__ Indicator on if location is exact *(Boolean)*  \n",
    "__last_review:__ Date the last review of the listing occured *(date)*  \n",
    "__latitude:__ Latitude of the listing *(numeric)*  \n",
    "__longitude:__ Longitude of the listing *(numeric)*  \n",
    "__market:__ The market the listing is in (i.e., Adirondacks, NYC) *(categorical)*  \n",
    "__maximum_nights:__ The maximum number of consecutive days the listing is available *(numeric)*  \n",
    "__minimum_nights:__ The minimum number of days the place can be rented *(numeric)*  \n",
    "__name:__ Given name of the listing *(categorical)*  \n",
    "__neighborhood:__ The neighborhood the listing is located in *(categorical)*  \n",
    "__number_of_reviews__: The number of reviews on a listing *(numeric)*  \n",
    "__number_of_reviews_ltm:__ The number of reviews on a long term listing *(numeric)*  \n",
    "__price:__ The nightly price of a listing *(numeric)*  \n",
    "__property_type:__ The residence type of the listing *(numeric)*  \n",
    "__require_guest_phone_verification:__ Indicator on whether phone verification of guest is requied *(Boolean)*  \n",
    "__require_guest_profile_picture:__  Indicator on whether host requires guest to post profile picture *(Boolean)*  \n",
    "__review_scores_accuracy:__ The average rating of all guests on the accuracy of the listing's description *(numeric)*  \n",
    "__review_scores_checkin:__ The average rating of guests' review of the check in process *(numeric)*  \n",
    "__review_scores_cleanliness:__ The average rating of guests' review of cleanliness *(numeric)*  \n",
    "__review_scores_communication:__ The average rating of guests' review on host communication *(numeric)*  \n",
    "__review_scores_location:__ The average rating of guests' review of listing location *(numeric)*  \n",
    "__review_scores_rating:__  The average rating of guests' review of overall host rating *(numeric)*  \n",
    "__review_scores_value:__ The average rating of guests' review of listing value *(numeric)*  \n",
    "__reviews_per_month:__ The number of reviews a listing gets per month *(numeric)*  \n",
    "__room_type:__ The type of space that is available for rent *(categorical)*  \n",
    "__security_deposit:__ The value of the security deposit required before rent *(numeric)*  \n",
    "__smart_location:__ The city of the listing - cleaned *(categorical)*    \n",
    "__state:__  The state the listing is in *(categorical)*   \n",
    "__street:__ Another variable for city *(categorical)*   \n",
    "__zipcode:__ The zipcode the listing is in *(numeric)* \n",
    "\n",
    "\n",
    "### There are potential outliers with the following variables:\n",
    " - maximum nights (placeholders of random values?)\n",
    " - minimum nights (same thing?)\n",
    "\n",
    "\n",
    "### Skewed variables:\n",
    " - price\n",
    " - number of reviews\n",
    " - Continue this!!\n",
    " \n",
    "### Transformed variables\n",
    "\n",
    "\n",
    "### Duplicate data:\n",
    " - Several minimum/maximum night variables conveying the same information\n",
    " - Availability variables were highly correlated\n",
    " - Calculated host listing variables contained same information\n",
    " - Weekly and monthly price were highly correlated with price\n",
    " - Country and country code contained same info (redundant for NY listings)\n",
    " - Requires_license is exlusively true except for 1 value\n",
    " \n",
    "### Missing values:\n",
    "Many attributes have thousands of missing values. This is due to the nature of AirBnb's site - reviewers are not required to provide feedback on every category, and hosts do not have to provide information in every single field. Many of the fields available on the site do not apply to every single listing, meaning that often these fields are left blank and it is not a result of error. Certain fields had a high frequency of missing values (e.g. square feet had over 90% missing values), in which we determined not to consider those variables as eligible for analysis. Out of the variables worth considering, the highest percentage of missing values is less than 40%, where we chose to impute the values by using the median of the available values to reduce changes to the shape of the distribution. For categorical variables, the values were not imputed, as \"NaN\" can serve as it's own factor level.\n",
    "\n",
    "A key target variable for prediction is \"price\" which has 10 zero values which will be considered missing and included in imputation, since price is required for listings. \n",
    "\n",
    "Host neighborhood was not considered for imputation, since there are many variables that contain similar information that can be used for analysis.\n",
    "\n",
    "First review and last review were imputed with the date 08/01/2019 with the assumption that dates farther in the past provide information about host experience, which is information we did not want to provide for missing values.\n",
    "\n",
    "## Descriptive Statistics of Key Variables \n",
    "__Price:__  \n",
    "As shown in the table below, the prices are skewed right (mean is greater than the median), meaning there are more listings with a price below the average than above. 75% of the prices per night are /$175 or less, but there are high-end options up to /$10,000 a night. The prices are widely spread, as shown by the large range (99,990) and standard deviation (236)."
   ]
  },
  {
   "cell_type": "code",
   "execution_count": 69,
   "metadata": {},
   "outputs": [
    {
     "data": {
      "text/plain": [
       "count    48864.000000\n",
       "mean       151.474664\n",
       "std        236.576536\n",
       "min         10.000000\n",
       "25%         69.000000\n",
       "50%        105.000000\n",
       "75%        175.000000\n",
       "max      10000.000000\n",
       "Name: price, dtype: float64"
      ]
     },
     "execution_count": 69,
     "metadata": {},
     "output_type": "execute_result"
    },
    {
     "data": {
      "text/plain": [
       "236.57653562777037"
      ]
     },
     "execution_count": 69,
     "metadata": {},
     "output_type": "execute_result"
    }
   ],
   "source": [
    "#price\n",
    "sub.price.describe()\n",
    "sub.price.std()"
   ]
  },
  {
   "cell_type": "markdown",
   "metadata": {},
   "source": [
    "__Beds:__  \n",
    "75% of the listings have 2 beds or less, with a greater concentration of listings having only one bed available. However, there are 5 listings with over 20 times as many beds as the median number of beds, indicating that this variable is highly skewed. The maximum number of beds a listing has is 40--which is much greater than the average number of 1.55. An early hypothesis is that these values with larger values are in specific markets; the market variable will likely have a relationship with the number of beds."
   ]
  },
  {
   "cell_type": "code",
   "execution_count": 70,
   "metadata": {},
   "outputs": [
    {
     "data": {
      "text/plain": [
       "count    48822.000000\n",
       "mean         1.548073\n",
       "std          1.112344\n",
       "min          0.000000\n",
       "25%          1.000000\n",
       "50%          1.000000\n",
       "75%          2.000000\n",
       "max         40.000000\n",
       "Name: beds, dtype: float64"
      ]
     },
     "execution_count": 70,
     "metadata": {},
     "output_type": "execute_result"
    },
    {
     "data": {
      "text/plain": [
       "1.1123440223779768"
      ]
     },
     "execution_count": 70,
     "metadata": {},
     "output_type": "execute_result"
    }
   ],
   "source": [
    "sub.beds.describe()\n",
    "sub.beds.std()"
   ]
  },
  {
   "cell_type": "code",
   "execution_count": null,
   "metadata": {},
   "outputs": [],
   "source": []
  }
 ],
 "metadata": {
  "kernelspec": {
   "display_name": "Python 3",
   "language": "python",
   "name": "python3"
  },
  "language_info": {
   "codemirror_mode": {
    "name": "ipython",
    "version": 3
   },
   "file_extension": ".py",
   "mimetype": "text/x-python",
   "name": "python",
   "nbconvert_exporter": "python",
   "pygments_lexer": "ipython3",
   "version": "3.7.3"
  }
 },
 "nbformat": 4,
 "nbformat_minor": 2
}
