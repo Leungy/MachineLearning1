{
 "cells": [
  {
   "cell_type": "code",
   "execution_count": 12,
   "metadata": {},
   "outputs": [],
   "source": [
    "import pandas as pd\n",
    "import numpy as np\n",
    "import pandas_profiling as prof\n",
    "from decimal import Decimal\n",
    " \n",
    "data = pd.read_csv(\"/Users/ksomes/Downloads/listings.csv\") "
   ]
  },
  {
   "cell_type": "code",
   "execution_count": 39,
   "metadata": {
    "scrolled": true
   },
   "outputs": [
    {
     "name": "stdout",
     "output_type": "stream",
     "text": [
      "['name', 'host_id', 'host_name', 'host_since', 'host_location', 'host_response_time', 'host_response_rate', 'host_is_superhost', 'host_neighbourhood', 'host_listings_count', 'host_verifications', 'host_has_profile_pic', 'host_identity_verified', 'street', 'neighbourhood', 'neighbourhood_cleansed', 'neighbourhood_group_cleansed', 'city', 'state', 'zipcode', 'market', 'smart_location', 'latitude', 'longitude', 'is_location_exact', 'property_type', 'room_type', 'accommodates', 'bathrooms', 'bedrooms', 'beds', 'bed_type', 'price', 'security_deposit', 'cleaning_fee', 'guests_included', 'extra_people', 'minimum_nights', 'maximum_nights', 'calendar_updated', 'availability_60', 'calendar_last_scraped', 'number_of_reviews', 'number_of_reviews_ltm', 'first_review', 'last_review', 'review_scores_rating', 'review_scores_accuracy', 'review_scores_cleanliness', 'review_scores_checkin', 'review_scores_communication', 'review_scores_location', 'review_scores_value', 'requires_license', 'instant_bookable', 'cancellation_policy', 'require_guest_profile_picture', 'require_guest_phone_verification', 'calculated_host_listings_count_entire_homes', 'calculated_host_listings_count_private_rooms', 'reviews_per_month']\n"
     ]
    }
   ],
   "source": [
    "#drop redundant info and fields not useful for analysis\n",
    "sub=data.drop(['id','listing_url','scrape_id','last_scraped','summary','space','description','experiences_offered'\n",
    "              , 'neighborhood_overview', 'notes', 'transit', 'access', 'interaction', 'house_rules',\n",
    "              'thumbnail_url', 'medium_url', 'picture_url', 'xl_picture_url', 'host_url', 'host_thumbnail_url',\n",
    "              'host_picture_url', 'country_code', 'country','amenities', 'minimum_minimum_nights',\n",
    "              'maximum_minimum_nights','minimum_maximum_nights', 'maximum_maximum_nights','minimum_nights_avg_ntm',\n",
    "              'maximum_nights_avg_ntm', 'availability_30', 'availability_365','availability_90','has_availability',\n",
    "               'calculated_host_listings_count','calculated_host_listings_count_shared_rooms',\n",
    "               'is_business_travel_ready','host_about', 'host_acceptance_rate', 'host_total_listings_count',\n",
    "              'jurisdiction_names','license','monthly_price','square_feet','weekly_price', 'requires_license'], axis=1)\n",
    "print(list(sub.columns))"
   ]
  },
  {
   "cell_type": "code",
   "execution_count": 15,
   "metadata": {},
   "outputs": [],
   "source": [
    "def money_to_decimal(x):\n",
    "    x = x.replace(\"$\", \"\").replace(\",\", \"\").replace(\" \", \"\")\n",
    "    return float(x)"
   ]
  },
  {
   "cell_type": "code",
   "execution_count": 36,
   "metadata": {},
   "outputs": [],
   "source": [
    "#converts objects with money values into decimal values to become continous attribute\n",
    "sub.cleaning_fee = sub.cleaning_fee.astype(str)\n",
    "sub.extra_people = sub.extra_people.astype(str)\n",
    "sub.security_deposit = sub.security_deposit.astype(str)\n",
    "sub.loc[:,'cleaning_fee'] = sub.loc[:,'cleaning_fee'].apply(money_to_decimal)\n",
    "sub.loc[:,'extra_people'] = sub.loc[:,'extra_people'].apply(money_to_decimal)\n",
    "sub.loc[:,'security_deposit'] = sub.loc[:,'security_deposit'].apply(money_to_decimal)"
   ]
  },
  {
   "cell_type": "code",
   "execution_count": 37,
   "metadata": {},
   "outputs": [],
   "source": [
    "profile = sub.profile_report(title=\"AirBnb Profiling\", correlation_overrides=[\"recclass\"])\n",
    "profile.to_file(output_file=(\"/Users/ksomes/Downloads/airbnb_profile.html\"))"
   ]
  },
  {
   "cell_type": "markdown",
   "metadata": {},
   "source": [
    "## Data description\n",
    "__accomodates:__ The maximum number of people the rental can accomodate *(numeric)*  \n",
    "__availability_60:__ Number of days the space is available within the next 60 days *(numeric)*  \n",
    "__bathrooms:__ The number of bathrooms in the rental *(numeric)*  \n",
    "__bed_type:__ The type of bed available *(categorical)*  \n",
    "__bedrooms:__ The number of separate bedrooms in the rental *(numeric)*  \n",
    "__beds:__ The number of beds in the rental *(numeric)*  \n",
    "__calculated_host_listings_count_entire_homes:__ Number of listings a host has where an entire home is offered *(numeric)*  \n",
    "__calculated_host_listings_count_private_rooms:__ Number of listings a host has with private rooms offered *(numeric)*  \n",
    "__calendar_last_scraped:__ Date the calendar information was last pulled *(date)*  \n",
    "__calendar_updated:__ Last time the host updated their calendar information *(date)*  \n",
    "__cancellation_policy:__ Ranking of how strict the host is on their cancellation policy *(categorical)*  \n",
    "__city:__ The city/borough the listing is located in *(categorical)*  \n",
    "__cleaning_fee:__ The surcharge for cleaning the listing *(numeric)*  \n",
    "__extra_people:__ The surcharge for each additional person staying in the rental *(numeric)*  \n",
    "__first_review:__ The date of the first review of the listing *(date)*  \n",
    "__guests_included:__ The number of guests included in the price *(numeric)*  \n",
    "__host_has_profile_pic:__ Indicator of presence of profile picture on site *(Boolean)*  \n",
    "__host_id:__ Host identifier *(numeric)*  \n",
    "__host_identity_verified:__ Indicator of host's identity verification using offline source *(Boolean)*  \n",
    "__host_is_superhost:__ Indicator of super host status (exemplary host behavior) *(Boolean)*  \n",
    "__host_listings_count:__ The number of listings the host has *(numeric)*  \n",
    "__host_location:__ The city the host is located in *(categorical)*  \n",
    "__host_name:__ Name of host *(categorical)*  \n",
    "__host_neighborhood:__ The neighborhood the host is located in *(categorical)*  \n",
    "__host_response_rate:__ The rate which a host responds to contact from lessor *(numeric)*  \n",
    "__host_response_time:__ Bucket of how long the host takes to respond *(categorical)*  \n",
    "__host_since:__ The date of the first hosting *(date)*  \n",
    "__host_verifications:__ Ways in which the host was verified *(categorical)*  \n",
    "__instant_bookable:__ Indicator on ability to book instantly *(Boolean)*  \n",
    "__is_location_exact:__ Indicator on if location is exact *(Boolean)*  \n",
    "__last_review:__ Date the last review of the listing occured *(date)*  \n",
    "__latitude:__ Latitude of the listing *(numeric)*  \n",
    "__longitude:__ Longitude of the listing *(numeric)*  \n",
    "__market:__ The market the listing is in (i.e., Adirondacks, NYC) *(categorical)*  \n",
    "__maximum_nights:__ The maximum number of consecutive days the listing is available *(numeric)*  \n",
    "__minimum_nights:__ The minimum number of days the place can be rented *(numeric)*  \n",
    "__name:__ Given name of the listing *(categorical)*  \n",
    "__neighborhood:__ The neighborhood the listing is located in *(categorical)*  \n",
    "__number_of_reviews__: The number of reviews on a listing *(numeric)*  \n",
    "__number_of_reviews_ltm:__ The number of reviews on a long term listing *(numeric)*  \n",
    "__price:__ The nightly price of a listing *(numeric)*  \n",
    "__property_type:__ The residence type of the listing *(numeric)*  \n",
    "__require_guest_phone_verification:__ Indicator on whether phone verification of guest is requied *(Boolean)*  \n",
    "__require_guest_profile_picture:__  Indicator on whether host requires guest to post profile picture *(Boolean)*  \n",
    "__review_scores_accuracy:__ The average rating of all guests on the accuracy of the listing's description *(numeric)*  \n",
    "__review_scores_checkin:__ The average rating of guests' review of the check in process *(numeric)*  \n",
    "__review_scores_cleanliness:__ The average rating of guests' review of cleanliness *(numeric)*  \n",
    "__review_scores_communication:__ The average rating of guests' review on host communication *(numeric)*  \n",
    "__review_scores_location:__ The average rating of guests' review of listing location *(numeric)*  \n",
    "__review_scores_rating:__  The average rating of guests' review of overall host rating *(numeric)*  \n",
    "__review_scores_value:__ The average rating of guests' review of listing value *(numeric)*  \n",
    "__reviews_per_month:__ The number of reviews a listing gets per month *(numeric)*  \n",
    "__room_type:__ The type of space that is available for rent *(categorical)*  \n",
    "__security_deposit:__ The value of the security deposit required before rent *(numeric)*  \n",
    "__smart_location:__ The city of the listing - cleaned *(categorical)*  \n",
    "\n",
    "\n",
    "\n",
    "There are potential outliers with the following variables:\n",
    " - maximum nights (placeholders of random values?)\n",
    " - minimum nights (same thing?)\n",
    "\n",
    "\n",
    "Skewed variables:\n",
    " - price\n",
    " - number of reviews\n",
    " - Continue this!!\n",
    "\n",
    "Duplicate data:\n",
    " - Several minimum/maximum night variables conveying the same information\n",
    " - Availability variables were highly correlated\n",
    " - Calculated host listing variables contained same information\n",
    " - Weekly and monthly price were highly correlated with price\n",
    " - Country and country code contained same info (redundant for NY listings)\n",
    " - Requires_license is exlusively true except for 1 value"
   ]
  }
 ],
 "metadata": {
  "kernelspec": {
   "display_name": "Python 3",
   "language": "python",
   "name": "python3"
  },
  "language_info": {
   "codemirror_mode": {
    "name": "ipython",
    "version": 3
   },
   "file_extension": ".py",
   "mimetype": "text/x-python",
   "name": "python",
   "nbconvert_exporter": "python",
   "pygments_lexer": "ipython3",
   "version": "3.7.3"
  }
 },
 "nbformat": 4,
 "nbformat_minor": 2
}
